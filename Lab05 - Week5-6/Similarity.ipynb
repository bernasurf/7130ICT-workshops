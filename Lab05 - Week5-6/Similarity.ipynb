{
 "cells": [
  {
   "cell_type": "markdown",
   "metadata": {},
   "source": [
    "# Similarity"
   ]
  },
  {
   "cell_type": "markdown",
   "metadata": {},
   "source": [
    "We will work on applying similarity: Jaccard and Cosine similarity. This exercise is a simple application of the lecture."
   ]
  },
  {
   "cell_type": "markdown",
   "metadata": {},
   "source": [
    "Begin by importing the needed libraries:"
   ]
  },
  {
   "cell_type": "code",
   "execution_count": 1,
   "metadata": {},
   "outputs": [],
   "source": [
    "# import needed libraries\n",
    "import nltk\n",
    "import numpy as np\n",
    "import pandas as pd"
   ]
  },
  {
   "cell_type": "markdown",
   "metadata": {},
   "source": [
    "We will work with the following examples:"
   ]
  },
  {
   "cell_type": "code",
   "execution_count": 2,
   "metadata": {},
   "outputs": [],
   "source": [
    "A = \"Outside the classroom, Stallman pursued his studies with even more diligence, rushing off to fulfill his laboratory-assistant duties at Rockefeller University during the week and dodging the Vietnam protesters on his way to Saturday school at Columbia. It was there, while the rest of the Science Honors Program students sat around discussing their college choices, that Stallman finally took a moment to participate in the preclass bull session.\"\n",
    "B = \"To facilitate the process, AI Lab hackers had built a system that displayed both the source and display modes on a split screen. Despite this innovative hack, switching from mode to mode was still a nuisance.\"\n",
    "C = \"With no dorm and no dancing, Stallman's social universe imploded. Like an astronaut experiencing the aftereffects of zero-gravity, Stallman found that his ability to interact with nonhackers, especially female nonhackers, had atrophied significantly. After 16 weeks in the AI Lab, the self confidence he'd been quietly accumulating during his 4 years at Harvard was virtually gone.\""
   ]
  },
  {
   "cell_type": "markdown",
   "metadata": {},
   "source": [
    "Begin by computing the Jaccard Similarity J of all possibilities:\n",
    "* J(A, B)\n",
    "* J(B, C)\n",
    "* J(A, C)"
   ]
  },
  {
   "cell_type": "code",
   "execution_count": 3,
   "metadata": {},
   "outputs": [
    {
     "name": "stdout",
     "output_type": "stream",
     "text": [
      "Jaccard Similarity AB:  0.08536585365853659\n",
      "Jaccard Similarity AC:  0.125\n",
      "Jaccard Similarity AB:  0.09210526315789473\n"
     ]
    }
   ],
   "source": [
    "# TODO: compute the Jaccard similarities\n",
    "# Split the sentences\n",
    "a = set(A.split())\n",
    "b = set(B.split())\n",
    "c = set(C.split())\n",
    "\n",
    "# Compute the intersection\n",
    "intersectAB = a.intersection(b)\n",
    "intersectAC = a.intersection(c)\n",
    "intersectBC = b.intersection(c)\n",
    "\n",
    "#compute union\n",
    "unionAB = a.union(b)\n",
    "unionAC = a.union(c)\n",
    "unionBC = b.union(c)\n",
    "\n",
    "# Compute and print the Jaccard Similarity\n",
    "JAB = len(intersectAB) / len(unionAB)\n",
    "print('Jaccard Similarity AB: ', JAB)\n",
    "JAC = len(intersectAC) / len(unionAC)\n",
    "print('Jaccard Similarity AC: ', JAC)\n",
    "JBC = len(intersectBC) / len(unionBC)\n",
    "print('Jaccard Similarity AB: ', JBC)"
   ]
  },
  {
   "cell_type": "markdown",
   "metadata": {},
   "source": [
    "What are the closest to the other according to Jaccard Similarity?  A and C are the closest\n",
    "\n",
    "Now let's do the same using TF-IDF and Cosine Similarity. Compute the TF-IDF and cosine similarities and print them."
   ]
  },
  {
   "cell_type": "code",
   "execution_count": 12,
   "metadata": {
    "scrolled": true
   },
   "outputs": [
    {
     "data": {
      "text/plain": [
       "array([[0.        , 0.        , 0.        , 0.        , 0.        ,\n",
       "        0.        , 0.        , 0.06890563, 0.11666737, 0.11666737,\n",
       "        0.        , 0.17745708, 0.        , 0.        , 0.        ,\n",
       "        0.        , 0.11666737, 0.11666737, 0.11666737, 0.11666737,\n",
       "        0.11666737, 0.        , 0.        , 0.        , 0.11666737,\n",
       "        0.11666737, 0.        , 0.        , 0.11666737, 0.        ,\n",
       "        0.08872854, 0.11666737, 0.        , 0.11666737, 0.        ,\n",
       "        0.        , 0.        , 0.11666737, 0.        , 0.        ,\n",
       "        0.11666737, 0.        , 0.        , 0.        , 0.        ,\n",
       "        0.        , 0.        , 0.        , 0.26618562, 0.11666737,\n",
       "        0.        , 0.08872854, 0.        , 0.        , 0.11666737,\n",
       "        0.        , 0.11666737, 0.        , 0.        , 0.        ,\n",
       "        0.11666737, 0.11666737, 0.        , 0.        , 0.        ,\n",
       "        0.08872854, 0.11666737, 0.08872854, 0.11666737, 0.11666737,\n",
       "        0.11666737, 0.        , 0.11666737, 0.11666737, 0.11666737,\n",
       "        0.        , 0.11666737, 0.11666737, 0.11666737, 0.11666737,\n",
       "        0.11666737, 0.11666737, 0.11666737, 0.        , 0.        ,\n",
       "        0.11666737, 0.        , 0.        , 0.        , 0.        ,\n",
       "        0.17745708, 0.        , 0.11666737, 0.11666737, 0.        ,\n",
       "        0.        , 0.06890563, 0.41343377, 0.11666737, 0.11666737,\n",
       "        0.        , 0.20671688, 0.11666737, 0.        , 0.11666737,\n",
       "        0.11666737, 0.        , 0.06890563, 0.11666737, 0.11666737,\n",
       "        0.        , 0.11666737, 0.08872854, 0.        , 0.        ],\n",
       "       [0.        , 0.        , 0.        , 0.        , 0.        ,\n",
       "        0.13850493, 0.        , 0.10756144, 0.        , 0.        ,\n",
       "        0.        , 0.        , 0.        , 0.        , 0.18211734,\n",
       "        0.18211734, 0.        , 0.        , 0.        , 0.        ,\n",
       "        0.        , 0.        , 0.        , 0.18211734, 0.        ,\n",
       "        0.        , 0.18211734, 0.18211734, 0.        , 0.        ,\n",
       "        0.        , 0.        , 0.        , 0.        , 0.        ,\n",
       "        0.18211734, 0.        , 0.        , 0.        , 0.18211734,\n",
       "        0.        , 0.        , 0.        , 0.18211734, 0.18211734,\n",
       "        0.13850493, 0.        , 0.        , 0.        , 0.        ,\n",
       "        0.        , 0.        , 0.18211734, 0.        , 0.        ,\n",
       "        0.13850493, 0.        , 0.        , 0.36423469, 0.18211734,\n",
       "        0.        , 0.        , 0.        , 0.        , 0.18211734,\n",
       "        0.        , 0.        , 0.13850493, 0.        , 0.        ,\n",
       "        0.        , 0.18211734, 0.        , 0.        , 0.        ,\n",
       "        0.        , 0.        , 0.        , 0.        , 0.        ,\n",
       "        0.        , 0.        , 0.        , 0.18211734, 0.        ,\n",
       "        0.        , 0.        , 0.        , 0.18211734, 0.18211734,\n",
       "        0.        , 0.18211734, 0.        , 0.        , 0.18211734,\n",
       "        0.18211734, 0.10756144, 0.21512287, 0.        , 0.        ,\n",
       "        0.18211734, 0.21512287, 0.        , 0.        , 0.        ,\n",
       "        0.        , 0.        , 0.10756144, 0.        , 0.        ,\n",
       "        0.        , 0.        , 0.        , 0.        , 0.        ],\n",
       "       [0.13420178, 0.13420178, 0.13420178, 0.13420178, 0.13420178,\n",
       "        0.10206391, 0.13420178, 0.07926173, 0.        , 0.        ,\n",
       "        0.13420178, 0.10206391, 0.13420178, 0.13420178, 0.        ,\n",
       "        0.        , 0.        , 0.        , 0.        , 0.        ,\n",
       "        0.        , 0.13420178, 0.13420178, 0.        , 0.        ,\n",
       "        0.        , 0.        , 0.        , 0.        , 0.13420178,\n",
       "        0.10206391, 0.        , 0.13420178, 0.        , 0.13420178,\n",
       "        0.        , 0.13420178, 0.        , 0.13420178, 0.        ,\n",
       "        0.        , 0.13420178, 0.13420178, 0.        , 0.        ,\n",
       "        0.10206391, 0.13420178, 0.13420178, 0.20412783, 0.        ,\n",
       "        0.13420178, 0.10206391, 0.        , 0.13420178, 0.        ,\n",
       "        0.10206391, 0.        , 0.13420178, 0.        , 0.        ,\n",
       "        0.        , 0.        , 0.26840356, 0.26840356, 0.        ,\n",
       "        0.10206391, 0.        , 0.        , 0.        , 0.        ,\n",
       "        0.        , 0.        , 0.        , 0.        , 0.        ,\n",
       "        0.13420178, 0.        , 0.        , 0.        , 0.        ,\n",
       "        0.        , 0.        , 0.        , 0.        , 0.13420178,\n",
       "        0.        , 0.13420178, 0.13420178, 0.        , 0.        ,\n",
       "        0.20412783, 0.        , 0.        , 0.        , 0.        ,\n",
       "        0.        , 0.07926173, 0.2377852 , 0.        , 0.        ,\n",
       "        0.        , 0.07926173, 0.        , 0.13420178, 0.        ,\n",
       "        0.        , 0.13420178, 0.07926173, 0.        , 0.        ,\n",
       "        0.13420178, 0.        , 0.20412783, 0.13420178, 0.13420178]])"
      ]
     },
     "execution_count": 12,
     "metadata": {},
     "output_type": "execute_result"
    }
   ],
   "source": [
    "# TODO: compute the TF-IDF of A, B and C and the cosine similarities of all possibilities\n",
    "#import library needed\n",
    "from sklearn.feature_extraction.text import TfidfVectorizer\n",
    "\n",
    "\n",
    "#instantiate TfidVectorizer\n",
    "vectorizer = TfidfVectorizer()\n",
    "tf_idf = vectorizer.fit_transform([A,B,C]).toarray()\n",
    "tf_idf"
   ]
  },
  {
   "cell_type": "code",
   "execution_count": 13,
   "metadata": {},
   "outputs": [
    {
     "data": {
      "text/plain": [
       "array([[1.        , 0.1679327 , 0.2850296 ],\n",
       "       [0.1679327 , 1.        , 0.13618963],\n",
       "       [0.2850296 , 0.13618963, 1.        ]])"
      ]
     },
     "execution_count": 13,
     "metadata": {},
     "output_type": "execute_result"
    }
   ],
   "source": [
    "from sklearn.metrics.pairwise import cosine_similarity\n",
    "\n",
    "similarity = cosine_similarity(tf_idf, tf_idf)\n",
    "similarity"
   ]
  },
  {
   "cell_type": "code",
   "execution_count": 18,
   "metadata": {},
   "outputs": [
    {
     "name": "stdout",
     "output_type": "stream",
     "text": [
      "cos(A,B): 0.16793269576264072\n",
      "cos(A,C): 0.28502960323339077\n",
      "cos(B,C): 0.13618963113796587\n"
     ]
    },
    {
     "data": {
      "image/png": "[encoded data removed]",
      "text/plain": [
       "<Figure size 432x288 with 2 Axes>"
      ]
     },
     "metadata": {
      "needs_background": "light"
     },
     "output_type": "display_data"
    }
   ],
   "source": [
    "import seaborn as sns\n",
    "import matplotlib.pyplot as plt\n",
    "sns.heatmap(similarity, annot=True, xticklabels=[\"A\",\"B\",\"C\"], yticklabels=[\"A\",\"B\",\"C\"])\n",
    "\n",
    "print(\"cos(A,B):\", similarity[0][1])\n",
    "print(\"cos(A,C):\", similarity[0][2])\n",
    "print(\"cos(B,C):\", similarity[1][2])"
   ]
  },
  {
   "cell_type": "markdown",
   "metadata": {},
   "source": [
    "Is it consistent with the Jaccard values?\n",
    "\n",
    "\n"
   ]
  },
  {
   "cell_type": "markdown",
   "metadata": {},
   "source": [
    "# Yes, in regards to AC being the most similar on both comparisons"
   ]
  },
  {
   "cell_type": "code",
   "execution_count": null,
   "metadata": {},
   "outputs": [],
   "source": []
  }
 ],
 "metadata": {
  "kernelspec": {
   "display_name": "Python 3",
   "language": "python",
   "name": "python3"
  },
  "language_info": {
   "codemirror_mode": {
    "name": "ipython",
    "version": 3
   },
   "file_extension": ".py",
   "mimetype": "text/x-python",
   "name": "python",
   "nbconvert_exporter": "python",
   "pygments_lexer": "ipython3",
   "version": "3.7.4"
  },
  "toc": {
   "base_numbering": 1,
   "nav_menu": {},
   "number_sections": true,
   "sideBar": true,
   "skip_h1_title": false,
   "title_cell": "Table of Contents",
   "title_sidebar": "Contents",
   "toc_cell": false,
   "toc_position": {},
   "toc_section_display": true,
   "toc_window_display": false
  }
 },
 "nbformat": 4,
 "nbformat_minor": 2
}
